{
 "cells": [
  {
   "cell_type": "markdown",
   "metadata": {},
   "source": [
    "1) The Two values of the boolean types are True and False\n",
    "The number 0 represents False\n",
    "The number 1 represents True"
   ]
  },
  {
   "cell_type": "markdown",
   "metadata": {},
   "source": [
    "2) The different types of Boolena operators are:\n",
    "AND this will return true only if both operand are True \n",
    "a,b = 5,3\n",
    "eg    if a>b and a!=0:\n",
    "        print(True)\n",
    "    else:\n",
    "        print(False)\n",
    "        \n",
    "o/p = True\n",
    "OR this will return true if either one of the operand is True \n",
    "a,b = 5,0\n",
    "eg    if a>b and a!=0:\n",
    "        print(True)\n",
    "    else:\n",
    "        print(False)\n",
    "        \n",
    "o/p= True        \n",
    "NOT this will return True if the operand is False and False when the operand is True\n",
    "eg    name = \"Agnel\" is \"Agnel\"\n",
    "      print(not name)\n",
    "    \n",
    "o/p = False    "
   ]
  },
  {
   "cell_type": "markdown",
   "metadata": {},
   "source": [
    "3) Truth table \n",
    "AND\n",
    "    True  , True   = True\n",
    "    True  , False  = False\n",
    "    False , True   = False\n",
    "    False , False  = False\n",
    "\n",
    "OR\n",
    "    True  , True   = True\n",
    "    True  , False  = True\n",
    "    False , True   = True\n",
    "    False , False  = False\n",
    "    \n",
    "NOT\n",
    "    True  = False\n",
    "    False = True"
   ]
  },
  {
   "cell_type": "markdown",
   "metadata": {},
   "source": [
    "4) \n",
    "a) False\n",
    "b) False\n",
    "c) True\n",
    "d) False\n",
    "e) False\n",
    "f) True"
   ]
  },
  {
   "cell_type": "markdown",
   "metadata": {},
   "source": [
    "5) The six Comparison operators are \n",
    "<          5<6  = True\n",
    ">          4>5  = False\n",
    "==         5==5 = True\n",
    "<=         6<=7 = True\n",
    ">=         7>=8 = False\n",
    "!=         7!=7 = False "
   ]
  },
  {
   "cell_type": "markdown",
   "metadata": {},
   "source": [
    "6) The equal to operator is used to compare two values by using the comparison operator (==), while the assignment operator is used to assign a value to a variable by using the assignment operator (=), The given below is the example for the both operations.\n",
    "Assignment:\n",
    "a = 5\n",
    "print(a)\n",
    "o/p = 5\n",
    "\n",
    "Equal to:\n",
    "a,b=5,5\n",
    "print(a==b)\n",
    "o/p = True"
   ]
  },
  {
   "cell_type": "markdown",
   "metadata": {},
   "source": [
    "7)\n",
    "spam=0\n",
    "if spam == 10:      # Block 1  B1\n",
    "    print(\"eggs\")   # B1\n",
    "if spam > 5:        # Block 2  B2\n",
    "    print(\"bacon\")  # B2\n",
    "else:               # Block 3  B3\n",
    "    print(\"ham\")    # B3\n",
    "    print(\"spam\")   # B3\n",
    "    print(\"spam\")   # B3"
   ]
  },
  {
   "cell_type": "markdown",
   "metadata": {},
   "source": [
    "8)\n",
    "spam = int(input())\n",
    "if spam == 1:\n",
    "    print(\"Hello\")\n",
    "elif spam == 2:\n",
    "    print(\"Howdy\")\n",
    "else:\n",
    "    print(\"Greetings\")"
   ]
  },
  {
   "cell_type": "markdown",
   "metadata": {},
   "source": [
    "9) Ctrl+c  is the key which we will use if we are stuck in a infinte loop"
   ]
  },
  {
   "cell_type": "markdown",
   "metadata": {},
   "source": [
    "10) \n",
    "Break is a statement which is used to terminate the normal flow of excecution of a loop, as soon as a break statement is encountered it will only stop the execution of the current immediate loop and it will exit from the immediate loop no statemnets after the break will be executed ever.\n",
    "\n",
    "Continue is a statement which is used to continue or force the next execution of the loop, it will skip the statements below the continue statement for the current iteration only."
   ]
  },
  {
   "cell_type": "code",
   "execution_count": 27,
   "metadata": {},
   "outputs": [
    {
     "name": "stdout",
     "output_type": "stream",
     "text": [
      "0\n",
      "1\n",
      "2\n",
      "3\n",
      "4\n",
      "6\n",
      "7\n",
      "8\n",
      "9\n"
     ]
    }
   ],
   "source": [
    "# example for continue\n",
    "for i in range(10):\n",
    "    if i==5:\n",
    "        continue\n",
    "    else:\n",
    "        print(i)"
   ]
  },
  {
   "cell_type": "code",
   "execution_count": 29,
   "metadata": {},
   "outputs": [
    {
     "name": "stdout",
     "output_type": "stream",
     "text": [
      "0\n",
      "1\n",
      "2\n",
      "3\n",
      "4\n"
     ]
    }
   ],
   "source": [
    "# example for Break  statement\n",
    "for i in range(10):\n",
    "    if i==5:\n",
    "        break\n",
    "    else:\n",
    "        print(i)"
   ]
  },
  {
   "cell_type": "markdown",
   "metadata": {},
   "source": [
    "11)\n",
    "range(10)\n",
    "In this function by default it will generate numbers which start from 0 till 9\n",
    "\n",
    "range(0,10)\n",
    "In this function we are explicitly describing the starting point from where the rest of the numbers should be generated, in this case the numbers will start from 0 till 9\n",
    "\n",
    "range(0,10,1)\n",
    "In this function we are explicitly describing the starting point as well as we are definig a step count, here for every next number to be generated the previous number will be added by one each time. and the numbers generated in this case will be from 0 till 9 "
   ]
  },
  {
   "cell_type": "code",
   "execution_count": 41,
   "metadata": {},
   "outputs": [
    {
     "name": "stdout",
     "output_type": "stream",
     "text": [
      "1\n",
      "2\n",
      "3\n",
      "4\n",
      "5\n",
      "6\n",
      "7\n",
      "8\n",
      "9\n",
      "10\n"
     ]
    }
   ],
   "source": [
    "# 12) Using For loop\n",
    "for i in range(1,11):\n",
    "     print(i)"
   ]
  },
  {
   "cell_type": "code",
   "execution_count": 42,
   "metadata": {},
   "outputs": [
    {
     "name": "stdout",
     "output_type": "stream",
     "text": [
      "1\n",
      "2\n",
      "3\n",
      "4\n",
      "5\n",
      "6\n",
      "7\n",
      "8\n",
      "9\n",
      "10\n"
     ]
    }
   ],
   "source": [
    "# 12) Using While loop\n",
    "i=1\n",
    "while i<11:\n",
    "    print(i)\n",
    "    i+=1"
   ]
  },
  {
   "cell_type": "markdown",
   "metadata": {},
   "source": [
    "13) \n",
    "Calling bacon() after importing spam\n",
    "\n",
    "import spam\n",
    "spam.bacon()    "
   ]
  },
  {
   "cell_type": "code",
   "execution_count": 43,
   "metadata": {},
   "outputs": [],
   "source": []
  },
  {
   "cell_type": "code",
   "execution_count": null,
   "metadata": {},
   "outputs": [],
   "source": []
  }
 ],
 "metadata": {
  "kernelspec": {
   "display_name": "Python 3",
   "language": "python",
   "name": "python3"
  },
  "language_info": {
   "codemirror_mode": {
    "name": "ipython",
    "version": 3
   },
   "file_extension": ".py",
   "mimetype": "text/x-python",
   "name": "python",
   "nbconvert_exporter": "python",
   "pygments_lexer": "ipython3",
   "version": "3.8.3"
  }
 },
 "nbformat": 4,
 "nbformat_minor": 4
}
